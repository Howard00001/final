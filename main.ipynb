{
 "cells": [
  {
   "cell_type": "code",
   "execution_count": 1,
   "metadata": {},
   "outputs": [],
   "source": [
    "from feature_process import *\n",
    "from data_process import *\n",
    "from pose_cluster import *"
   ]
  },
  {
   "cell_type": "code",
   "execution_count": null,
   "metadata": {},
   "outputs": [],
   "source": [
    "feat_type = 'bsF'\n",
    "model_type = 'dnn'\n",
    "add_cluster = 'Y'\n",
    "classes = 3"
   ]
  },
  {
   "cell_type": "code",
   "execution_count": null,
   "metadata": {},
   "outputs": [],
   "source": [
    "\n",
    "if feat_type == 'frame':\n",
    "    dlc_root = r'..\\final_data\\mix_landmark5'\n",
    "    dlc = DataSet(dlc_root)\n",
    "else:\n",
    "    dlc_root = r'..\\final_data\\mix_landmark7'\n",
    "    if feat_type[-1]=='H':\n",
    "        bs_root = r'..\\final_data\\mix_bsoidfeat'\n",
    "    else:\n",
    "        bs_root = r'..\\final_data\\mix_bsoidfeat2'\n",
    "    dlc = DataSet(dlc_root, bsoid=bs_root)\n",
    "dlc.generate_feature(feat_type=feat_type)"
   ]
  },
  {
   "cell_type": "code",
   "execution_count": null,
   "metadata": {},
   "outputs": [],
   "source": [
    "res = []\n",
    "\n",
    "for i in range(10):\n",
    "    dlc.generate_train_test(split=0.1, motion_del=False, k=i+1)\n",
    "\n",
    "    # model\n",
    "    x_train = np.concatenate(dlc.data['x_train'])\n",
    "    y_train = np.concatenate(dlc.data['y_train'])\n",
    "    model = Analysis(model_type=model_type, classes=classes)\n",
    "    model.train(x_train,y_train)\n",
    "    res.train.extend(model.analysis(x_train, y_train))\n",
    "    x_test = np.concatenate(dlc.data['x_test'])\n",
    "    y_test = np.concatenate(dlc.data['y_test'])\n",
    "    res.test.extend(model.analysis(x_test, y_test))\n",
    "    x_val = np.concatenate(dlc.data['x_val'])\n",
    "    y_val = np.concatenate(dlc.data['y_val'])\n",
    "    res.ttest.extend(model.analysis(x_val, y_val))"
   ]
  }
 ],
 "metadata": {
  "kernelspec": {
   "display_name": "Python 3.8.13 ('micelab')",
   "language": "python",
   "name": "python3"
  },
  "language_info": {
   "codemirror_mode": {
    "name": "ipython",
    "version": 3
   },
   "file_extension": ".py",
   "mimetype": "text/x-python",
   "name": "python",
   "nbconvert_exporter": "python",
   "pygments_lexer": "ipython3",
   "version": "3.8.13"
  },
  "orig_nbformat": 4,
  "vscode": {
   "interpreter": {
    "hash": "21b9da092866ed16c9c2dd273cbbba872df521d78c1f19a13c4b90d01d11e42e"
   }
  }
 },
 "nbformat": 4,
 "nbformat_minor": 2
}
