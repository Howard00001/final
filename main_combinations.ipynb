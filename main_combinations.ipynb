{
 "cells": [
  {
   "cell_type": "code",
   "execution_count": 1,
   "metadata": {},
   "outputs": [],
   "source": [
    "from feature_process import *\n",
    "from data_process import *\n",
    "from pose_cluster import *"
   ]
  },
  {
   "cell_type": "code",
   "execution_count": null,
   "metadata": {},
   "outputs": [],
   "source": [
    "add_clusters=['N','Y']\n",
    "feat_types=['frame','bsF','bsH','bscwtF','bscwtF','bsLSTMF','bsLSTMH','bscwtLSTMF','bscwtLSTMH']\n",
    "model_types=['svm', 'rf', 'dnn', 'lstm']\n",
    "# true_tests=['P7','S1']\n",
    "save_root = r'C:\\Users\\x\\Desktop\\final_data/analysis/'"
   ]
  },
  {
   "cell_type": "code",
   "execution_count": null,
   "metadata": {},
   "outputs": [],
   "source": [
    "# feat type\n",
    "if feat_type == 'frame':\n",
    "    dlc_root = r'..\\final_data\\mix_landmark5'\n",
    "    dlc = DataSet(dlc_root)\n",
    "else:\n",
    "    dlc_root = r'..\\final_data\\mix_landmark7'\n",
    "    dlc = DataSet(dlc_root)\n",
    "dlc.generate_feature(feat_type=feat_type)\n",
    "# add cluster\n",
    "if add_cluster == 'Y':\n",
    "    dlc.pose_cls(sel=['Cap','Capbasal'], sel_num=20, embed=False, k=50, cls_type='km', clf_type='svm')\n",
    "    classes=4\n",
    "else:\n",
    "    classes=3\n",
    "# true test\n",
    "for true_test in ['P7','S1']:\n",
    "    exp = true_test+add_cluster+feat_type+model\n",
    "    if true_test=='P7':\n",
    "        dlc.generate_train_test2(split=0.1, motion_del=False)\n",
    "    else:\n",
    "        dlc.generate_train_test(split=0.1, motion_del=False, k=1)\n",
    "    # model\n",
    "    x_train = np.concatenate(dlc.data['x_train'])\n",
    "    y_train = np.concatenate(dlc.data['y_train'])\n",
    "    model = Analysis(model_type=model_type, classes=classes,save_path=save_root+exp)\n",
    "    model.train(x_train,y_train)\n",
    "    model.plot_cm(x_train, y_train)\n",
    "    x_test = np.concatenate(dlc.data['x_test'])\n",
    "    y_test = np.concatenate(dlc.data['y_test'])\n",
    "    model.plot_cm(x_test, y_test)\n",
    "    x_val = np.concatenate(dlc.data['x_val'])\n",
    "    y_val = np.concatenate(dlc.data['y_val'])\n",
    "    model.plot_cm(x_val, y_val)"
   ]
  },
  {
   "cell_type": "code",
   "execution_count": null,
   "metadata": {},
   "outputs": [],
   "source": []
  }
 ],
 "metadata": {
  "kernelspec": {
   "display_name": "Python 3.8.12 ('micelab')",
   "language": "python",
   "name": "python3"
  },
  "language_info": {
   "codemirror_mode": {
    "name": "ipython",
    "version": 3
   },
   "file_extension": ".py",
   "mimetype": "text/x-python",
   "name": "python",
   "nbconvert_exporter": "python",
   "pygments_lexer": "ipython3",
   "version": "3.8.12"
  },
  "orig_nbformat": 4,
  "vscode": {
   "interpreter": {
    "hash": "261f4e7c2ce32b03122008566a2d6b1b4000d084cc20bf73259253bda2cba41d"
   }
  }
 },
 "nbformat": 4,
 "nbformat_minor": 2
}
