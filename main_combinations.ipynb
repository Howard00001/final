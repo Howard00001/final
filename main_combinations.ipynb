{
 "cells": [
  {
   "cell_type": "code",
   "execution_count": 1,
   "metadata": {},
   "outputs": [],
   "source": [
    "from feature_process import *\n",
    "from data_process import *\n",
    "from pose_cluster import *\n",
    "import csv"
   ]
  },
  {
   "cell_type": "code",
   "execution_count": 2,
   "metadata": {},
   "outputs": [],
   "source": [
    "add_clusters=['N','Y'] #'N','Y'\n",
    "feat_types=['bsF','bsH','bscwtF','bscwtH','bsLSTMF','bsLSTMH','bscwtLSTMF','bscwtLSTMH','frame']#'frame','bsF','bsH','bscwtF','bscwtH','bsLSTMF','bsLSTMH','bscwtLSTMF','bscwtLSTMH'\n",
    "model_types=['svm', 'rf', 'dnn', 'lstm'] #'svm', 'rf', 'dnn', 'lstm'\n",
    "save_root = r'C:\\Users\\x\\Desktop\\final_data/analysis2/'"
   ]
  },
  {
   "cell_type": "code",
   "execution_count": 3,
   "metadata": {},
   "outputs": [],
   "source": [
    "# class Result:\n",
    "#     '''\n",
    "#     save result of 10 iteration of select true test\n",
    "#     '''\n",
    "#     def __init__(self, exp_set):\n",
    "#         self.exp_set = exp_set\n",
    "#         self.train = []\n",
    "#         self.test = []\n",
    "#         self.ttest = []\n"
   ]
  },
  {
   "cell_type": "code",
   "execution_count": null,
   "metadata": {},
   "outputs": [],
   "source": [
    "\n",
    "for feat_type in feat_types:\n",
    "    # feat type\n",
    "    if feat_type == 'frame':\n",
    "        dlc_root = r'..\\final_data\\mix_landmark5'\n",
    "        dlc = DataSet(dlc_root)\n",
    "    else:\n",
    "        dlc_root = r'..\\final_data\\mix_landmark7'\n",
    "        if feat_type[-1]=='H':\n",
    "            bs_root = r'..\\final_data\\mix_bsoidfeat'\n",
    "        else:\n",
    "            bs_root = r'..\\final_data\\mix_bsoidfeat2'\n",
    "        dlc = DataSet(dlc_root, bsoid=bs_root)\n",
    "    dlc.generate_feature(feat_type=feat_type)\n",
    "\n",
    "    for add_cluster in add_clusters:\n",
    "        # add cluster\n",
    "        if add_cluster == 'Y':\n",
    "            dlc.pose_cls(sel=['Cap','Capbasal'], sel_num=20, embed=False, k=50, cls_type='km', clf_type='svm')\n",
    "            classes=4\n",
    "        else:\n",
    "            classes=3\n",
    "\n",
    "        for model_type in model_types:\n",
    "            if(model_type=='lstm' and feat_type.find('LSTM')==-1):\n",
    "                continue\n",
    "            if(feat_type.find('LSTM')!=-1 and model_type!='lstm'):\n",
    "                continue\n",
    "\n",
    "            # 10 different true test\n",
    "            exp = add_cluster+feat_type+model_type\n",
    "\n",
    "            for i in range(10):\n",
    "                res = []\n",
    "\n",
    "                dlc.generate_train_test(split=0.1, motion_del=False, k=i+1)\n",
    "\n",
    "                # model\n",
    "                x_train = np.concatenate(dlc.data['x_train'])\n",
    "                y_train = np.concatenate(dlc.data['y_train'])\n",
    "                model = Analysis(model_type=model_type, classes=classes)\n",
    "                model.train(x_train,y_train)\n",
    "                res.extend(model.analysis(x_train, y_train))\n",
    "                x_test = np.concatenate(dlc.data['x_test'])\n",
    "                y_test = np.concatenate(dlc.data['y_test'])\n",
    "                res.extend(model.analysis(x_test, y_test))\n",
    "                x_val = np.concatenate(dlc.data['x_val'])\n",
    "                y_val = np.concatenate(dlc.data['y_val'])\n",
    "                res.extend(model.analysis(x_val, y_val))\n",
    "\n",
    "                file = open(r'C:\\Users\\x\\Desktop\\final_data/analysis2.csv',mode='a', newline='')\n",
    "                writer = csv.writer(file)\n",
    "                line = [exp,i]\n",
    "                line.extend(res)\n",
    "                writer.writerow(line)\n",
    "                file.close()"
   ]
  },
  {
   "cell_type": "code",
   "execution_count": null,
   "metadata": {},
   "outputs": [],
   "source": []
  }
 ],
 "metadata": {
  "kernelspec": {
   "display_name": "Python 3.8.13 ('micelab')",
   "language": "python",
   "name": "python3"
  },
  "language_info": {
   "codemirror_mode": {
    "name": "ipython",
    "version": 3
   },
   "file_extension": ".py",
   "mimetype": "text/x-python",
   "name": "python",
   "nbconvert_exporter": "python",
   "pygments_lexer": "ipython3",
   "version": "3.8.13"
  },
  "orig_nbformat": 4,
  "vscode": {
   "interpreter": {
    "hash": "21b9da092866ed16c9c2dd273cbbba872df521d78c1f19a13c4b90d01d11e42e"
   }
  }
 },
 "nbformat": 4,
 "nbformat_minor": 2
}
