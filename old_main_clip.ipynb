{
 "cells": [
  {
   "cell_type": "markdown",
   "metadata": {},
   "source": [
    "## Pain Score evaluation Segment level (Select pose)"
   ]
  },
  {
   "cell_type": "code",
   "execution_count": 1,
   "metadata": {},
   "outputs": [],
   "source": [
    "from bsoid_kit import *\n",
    "import pandas as pd\n",
    "import numpy as np\n",
    "import os\n",
    "import joblib\n",
    "import matplotlib.pyplot as plt"
   ]
  },
  {
   "cell_type": "markdown",
   "metadata": {},
   "source": [
    "### Bsoid model train (Clustering)"
   ]
  },
  {
   "cell_type": "code",
   "execution_count": null,
   "metadata": {},
   "outputs": [],
   "source": [
    "root = r'C:\\Users\\x\\Desktop\\final\\bsoid\\control'\n",
    "outpath = r'./data/models'\n",
    "landmarknum = 7\n",
    "framerate = 200\n",
    "embeder_name = r'./data/models/f20.embeder'\n",
    "clf_name = r'./data/models/f20.clf'\n",
    "shift = False\n",
    "# embed\n",
    "embeded = False\n",
    "num_dimensions = 20\n",
    "sel = []\n",
    "# sel = np.array([ 5, 8, 10, 13, 14, 25, 26])\n",
    "# cluster\n",
    "min_c = 0.5 #for hdbscan\n",
    "k = 15  #for others\n",
    "cls_type = 'km'"
   ]
  },
  {
   "cell_type": "code",
   "execution_count": null,
   "metadata": {},
   "outputs": [],
   "source": [
    "# files = os.listdir(root)\n",
    "# if not os.path.isdir(outpath):\n",
    "#     os.makedirs(outpath)\n",
    "# feats = []\n",
    "# for file in files:\n",
    "#     filename = root+'/'+file\n",
    "#     feat = bsoidfeat(filename,landmarknum,framerate, shift=shift)\n",
    "#     if len(feats)==0:\n",
    "#         feats = feat\n",
    "#     else:\n",
    "#         feats = np.concatenate([feats, feat])\n",
    "# joblib.dump(feats, r'C:\\Users\\x\\Desktop\\final\\bsoid/feat')"
   ]
  },
  {
   "cell_type": "code",
   "execution_count": null,
   "metadata": {},
   "outputs": [],
   "source": [
    "feats = joblib.load(r'C:\\Users\\x\\Desktop\\final\\bsoid/feat7')"
   ]
  },
  {
   "cell_type": "code",
   "execution_count": null,
   "metadata": {},
   "outputs": [],
   "source": [
    "if embeded:\n",
    "    embeder, embeddings = embedfeat(feats, num_dimensions=num_dimensions, sel=sel, savename=embeder_name)\n",
    "    motions = motion_cluster(embeddings, min_c, k, cls_type)\n",
    "    clf = motion_clf(embeddings, motions, test_part=0.1, score=True, savename=clf_name, clf_type='rf')\n",
    "else:\n",
    "    motions = motion_cluster(feats, min_c, k, cls_type)\n",
    "    clf = motion_clf(feats, motions, test_part=0.1, score=True, savename=clf_name, clf_type='svm')"
   ]
  },
  {
   "cell_type": "markdown",
   "metadata": {},
   "source": [
    "### BSOiD Feature extract with pose prediction save to file"
   ]
  },
  {
   "cell_type": "code",
   "execution_count": null,
   "metadata": {},
   "outputs": [],
   "source": [
    "root = r'../final_data/new_landmark7/'\n",
    "outpath = r'../final_data/new_bsoidfeat/'\n",
    "landmarknum = 7\n",
    "framerate = 200\n",
    "embeder_path = '' #r'../final_data/models/f20.embeder'\n",
    "clf_path = r'../final_data/models/f20.clf'\n",
    "shift = False\n",
    "\n",
    "files = os.listdir(root)\n",
    "if not os.path.isdir(outpath):\n",
    "    os.makedirs(outpath)\n",
    "for file in files:\n",
    "    # if file.find('Cap')==-1:##################################\n",
    "    #     continue##############################################\n",
    "    filename = root+'/'+file\n",
    "    savename = (outpath+'/'+file).replace('.csv','')\n",
    "    if not os.path.isfile(clf_path): # save feat only\n",
    "        feat = bsoidfeat(filename,landmarknum,framerate,savename,shift=shift)\n",
    "    if os.path.isfile(embeder_path): # save feat, embeddings, motions\n",
    "        if(os.path.isfile(savename)):\n",
    "            sav = joblib.load(savename)\n",
    "            feat = sav[0]\n",
    "        else:\n",
    "            feat = bsoidfeat(filename,landmarknum,framerate,shift=shift)\n",
    "        embeder = joblib.load(embeder_path)\n",
    "        clf = joblib.load(clf_path)\n",
    "        embeddings = embeder.transform(feat)\n",
    "        motions = motion_predict(feat, clf, embeder=embeder)\n",
    "        motions_fs = []\n",
    "        # motions_fs = bsoid_predict(filename, landmarknum, framerate, clf, embeder)\n",
    "        joblib.dump([feat,embeddings,motions_fs,motions], savename)\n",
    "    elif os.path.isfile(clf_path): # save feat, motions\n",
    "        if(os.path.isfile(savename)):\n",
    "            sav = joblib.load(savename)\n",
    "            feat = sav[0]\n",
    "        else:\n",
    "            feat = bsoidfeat(filename,landmarknum,framerate,shift=shift)\n",
    "        clf = joblib.load(clf_path)\n",
    "        motions = clf.predict(feat)\n",
    "        motions_fs = []\n",
    "        # motions_fs = bsoid_predict(filename, landmarknum, framerate, clf)\n",
    "        joblib.dump([feat,motions_fs,motions], savename)"
   ]
  },
  {
   "cell_type": "markdown",
   "metadata": {},
   "source": [
    "### pose analysis function for Cap data"
   ]
  },
  {
   "cell_type": "code",
   "execution_count": null,
   "metadata": {},
   "outputs": [],
   "source": [
    "def get_ms(root, clf_path, score_type='clf', show=False, showplt=True):\n",
    "    files = os.listdir(root)\n",
    "    clf = joblib.load(clf_path)\n",
    "    motion_num = len(clf.classes_)\n",
    "\n",
    "    motionB = [0]*motion_num\n",
    "    motionT = [0]*motion_num\n",
    "    for file in files:\n",
    "        if file.find('Cap')!=-1:\n",
    "            savfile = joblib.load(root+'/'+file)\n",
    "            labels = savfile[-1] # motions\n",
    "            if file.find('basal')!=-1:\n",
    "                for i in range(motion_num):\n",
    "                    motionB[i]+= len(np.where(labels==i)[0])\n",
    "            if file.find('treat')!=-1:\n",
    "                for i in range(motion_num):\n",
    "                    motionT[i]+= len(np.where(labels==i)[0])\n",
    "\n",
    "    diff = np.array(motionT)-np.array(motionB)\n",
    "    sum2 = np.array(motionT)+np.array(motionB)\n",
    "    ratio = np.zeros((motion_num), dtype=float)\n",
    "    for i in range(motion_num):\n",
    "        ratio[i] = motionT[i]/(motionB[i]+motionT[i])\n",
    "\n",
    "    motion_score = np.zeros((motion_num), dtype=float)\n",
    "    if score_type=='clf':\n",
    "        th = 0.4\n",
    "        if show:\n",
    "            print(abs(diff)/sum(abs(diff)))\n",
    "            print(np.array(sum2)/sum(sum2))\n",
    "        motion_score[(ratio<=th) | (ratio>=1-th)] = 1\n",
    "        motion_score[(ratio>th) & (ratio<1-th)] = -1\n",
    "        # motion_score[np.where(abs(diff)/sum(abs(diff))>0.04)] = 1\n",
    "        # motion_score[np.where(abs(diff)/sum(abs(diff))<=0.04)] = -1\n",
    "    elif score_type=='reg1':\n",
    "        motion_score = ratio\n",
    "    else: # score by pose\n",
    "        motion_score = np.ones((motion_num), dtype=float)\n",
    "    if showplt:\n",
    "        x = np.arange(motion_num)\n",
    "        width = 0.3\n",
    "        plt.bar(x, motionB, width, color='green', label='basal')\n",
    "        plt.bar(x + width, motionT, width, color='red', label='treat')\n",
    "        plt.xticks(x + width / 2, x)\n",
    "        plt.legend(bbox_to_anchor=(1,1), loc='upper left')\n",
    "        plt.show()\n",
    "    return motion_score ,motion_num\n"
   ]
  },
  {
   "cell_type": "markdown",
   "metadata": {},
   "source": [
    "## Motion cluster + classifier/regression"
   ]
  },
  {
   "cell_type": "code",
   "execution_count": 2,
   "metadata": {},
   "outputs": [],
   "source": [
    "import joblib\n",
    "import numpy as np\n",
    "from sklearn.svm import SVC\n",
    "from sklearn.svm import SVR\n",
    "from sklearn.metrics import confusion_matrix, ConfusionMatrixDisplay"
   ]
  },
  {
   "cell_type": "code",
   "execution_count": 3,
   "metadata": {},
   "outputs": [],
   "source": [
    "root = r'../final_data/new_bsoidfeat/'\n",
    "motion_clf_path = r'../final_data/models/f10.clf'\n",
    "train_type = 'clf0'\n",
    "\n",
    "if train_type == 'clf' or train_type=='reg1':\n",
    "    motion_score, motion_num = get_ms(root, motion_clf_path, score_type=train_type, show=True)\n",
    "    print('motion score: ',motion_score)\n",
    "    print('motion num: ', motion_num)\n",
    "    print('valid motion: ', len(np.where(motion_score==1)[0]))\n",
    "else:\n",
    "    motion_score = []"
   ]
  },
  {
   "cell_type": "code",
   "execution_count": 4,
   "metadata": {},
   "outputs": [],
   "source": [
    "def assign_label(feat, motions, motion_score, treatment, usage='clf0'):\n",
    "    if usage=='clf0':\n",
    "        labels = np.zeros_like(feat[:,0], dtype=int)\n",
    "        if treatment == 'pH5.2':\n",
    "            labels[:] = 2\n",
    "        elif treatment == 'pH7.4':\n",
    "            labels[:] = 0\n",
    "        elif treatment == 'Cap':\n",
    "            labels[:] = 1\n",
    "    elif usage=='reg2':\n",
    "        labels = np.zeros_like(feat[:,0], dtype=int)\n",
    "        if treatment == 'pH5.2':\n",
    "            labels[:] = 1\n",
    "        elif treatment == 'pH7.4':\n",
    "            labels[:] = -1\n",
    "        elif treatment == 'Cap':\n",
    "            labels[:] = 1\n",
    "        elif treatment == 'basal':\n",
    "            labels[:] = -1\n",
    "    ms = motion_score.copy()\n",
    "    if usage=='clf':\n",
    "        labels = np.zeros_like(motions, dtype=int)\n",
    "        if treatment == 'pH5.2':\n",
    "            ms[np.where(motion_score==1)]=2\n",
    "        elif treatment == 'pH7.4':\n",
    "            ms[np.where(motion_score==1)]=0\n",
    "    elif usage=='reg1':\n",
    "        labels = np.zeros_like(motions, dtype=float)\n",
    "        # treat => ms = 1*ms\n",
    "        if treatment == 'basal' or treatment == 'pH7.4':\n",
    "            ms=(-1)*(1-ms)\n",
    "    elif usage=='reg2':\n",
    "        print(0)\n",
    "        \n",
    "    for i in range(len(ms)):\n",
    "        labels[np.where(motions==i)] = ms[i]\n",
    "    return labels"
   ]
  },
  {
   "cell_type": "code",
   "execution_count": 5,
   "metadata": {},
   "outputs": [],
   "source": [
    "# read all features, motions and corresponding treatment\n",
    "root = r'../final_data/new_bsoidfeat/'\n",
    "feature_embed = False\n",
    "\n",
    "x = []\n",
    "y = []\n",
    "treatments = []\n",
    "files = os.listdir(root)\n",
    "for file in files:\n",
    "    savfile = joblib.load(root+'/'+file)\n",
    "    if feature_embed:\n",
    "        feat = savfile[1]\n",
    "    else:\n",
    "        feat = savfile[0]\n",
    "    motions = savfile[-1]\n",
    "    x.append(feat)\n",
    "    treatment = file.split('-')[0]\n",
    "    if file.find('basal')!=-1:\n",
    "        if(train_type.find('clf')!=-1):\n",
    "            y.append(np.array([0]*len(feat),dtype=int))\n",
    "        else:\n",
    "            y.append(assign_label(feat, motions, motion_score, 'basal', train_type))\n",
    "        treatments.append(treatment+'basal')\n",
    "    else:\n",
    "        y.append(assign_label(feat, motions, motion_score, treatment, train_type))\n",
    "        treatments.append(treatment)\n",
    "feat_dim = x[0].shape[1]\n",
    "x=np.array(x,dtype=object)\n",
    "y=np.array(y,dtype=object)\n"
   ]
  },
  {
   "cell_type": "code",
   "execution_count": 7,
   "metadata": {},
   "outputs": [],
   "source": [
    "# data index of different treatments\n",
    "basal_ind = [i for i, j in enumerate(treatments) if j.find('basal')!=-1]\n",
    "pain_ind = [i for i, j in enumerate(treatments) if j == 'Cap']\n",
    "sng_ind = [i for i, j in enumerate(treatments) if j == 'pH5.2']\n",
    "ro_ind = [i for i, j in enumerate(treatments) if j == 'pH7.4']\n",
    "# setting training set index\n",
    "trainset = list(set(basal_ind) | set(pain_ind) | set(sng_ind))\n",
    "# trainset = list(set(basal_ind) | set(pain_ind))"
   ]
  },
  {
   "cell_type": "code",
   "execution_count": 8,
   "metadata": {},
   "outputs": [
    {
     "name": "stdout",
     "output_type": "stream",
     "text": [
      "labels: [0 1 2]\n"
     ]
    }
   ],
   "source": [
    "# train test split\n",
    "x_trains = []\n",
    "y_trains = []\n",
    "x_tests = []\n",
    "y_tests = []\n",
    "shuffles = [] #shuffle for fixed train test split\n",
    "for i in range(len(x)):\n",
    "    feat = x[i]\n",
    "    label = y[i]\n",
    "\n",
    "    if i in trainset and treatments[i].find('pH7.4')==-1:\n",
    "        #shuffle\n",
    "        ind = np.arange(len(feat))\n",
    "        np.random.shuffle(ind)\n",
    "        shuffles.append(ind)\n",
    "        feat = feat[ind]\n",
    "        #train test split\n",
    "        sp = len(feat)//10\n",
    "        if treatments[i].find('pH7.4')!=-1:\n",
    "            sp = len(feat)//10\n",
    "        x_trains.append(feat[:sp,:])\n",
    "        y_trains.append(label[:sp])\n",
    "        x_tests.append(feat[sp:,:])\n",
    "        y_tests.append(label[sp:])\n",
    "    else:\n",
    "        shuffles.append([])\n",
    "        x_trains.append([])\n",
    "        y_trains.append([])\n",
    "        x_tests.append(feat)\n",
    "        y_tests.append(label)\n",
    "\n",
    "x_train = np.concatenate([x for x in x_trains if len(x) != 0])\n",
    "y_train = np.concatenate([y for y in y_trains if len(y) != 0])\n",
    "print('labels:', np.unique(y_train))"
   ]
  },
  {
   "cell_type": "markdown",
   "metadata": {},
   "source": [
    "### Classify"
   ]
  },
  {
   "cell_type": "code",
   "execution_count": 9,
   "metadata": {},
   "outputs": [],
   "source": [
    "# training model\n",
    "model = SVC(kernel='rbf', C=1000)\n",
    "model = model.fit(x_train,y_train)\n",
    "# joblib.dump(model,'../final_data/models/f20.mcclf')"
   ]
  },
  {
   "cell_type": "code",
   "execution_count": 10,
   "metadata": {},
   "outputs": [
    {
     "name": "stdout",
     "output_type": "stream",
     "text": [
      "Cap train accuracy =  0.9993390614672836\n",
      "pH5.2 train accuracy =  0.9993800371977681\n",
      "Cap test accuracy =  0.7257393209200438\n",
      "pH5.2 test accuracy =  0.7528243752139678\n",
      "pH7.4 test accuracy =  0.559722695760882\n"
     ]
    },
    {
     "data": {
      "text/plain": [
       "<sklearn.metrics._plot.confusion_matrix.ConfusionMatrixDisplay at 0x263f6f43548>"
      ]
     },
     "execution_count": 10,
     "metadata": {},
     "output_type": "execute_result"
    },
    {
     "data": {
      "image/png": "[encoded data removed]",
      "text/plain": [
       "<Figure size 432x288 with 2 Axes>"
      ]
     },
     "metadata": {
      "needs_background": "light"
     },
     "output_type": "display_data"
    },
    {
     "data": {
      "image/png": "[encoded data removed]",
      "text/plain": [
       "<Figure size 432x288 with 2 Axes>"
      ]
     },
     "metadata": {
      "needs_background": "light"
     },
     "output_type": "display_data"
    }
   ],
   "source": [
    "# training dataset testing\n",
    "for t in ['Cap', 'pH5.2']:\n",
    "    feats = []\n",
    "    labels = []\n",
    "    for i in range(len(x)):\n",
    "        if treatments[i].find(t)!=-1:\n",
    "            feats.append(x_trains[i])\n",
    "            labels.append(y_trains[i])\n",
    "    feat = np.concatenate(feats)\n",
    "    label = np.concatenate(labels)\n",
    "    # print(len(feats))\n",
    "    print(t+' train accuracy = ', model.score(feat,label))\n",
    "# testing dataset testing\n",
    "for t in ['Cap', 'pH5.2', 'pH7.4']:\n",
    "    feats = []\n",
    "    labels = []\n",
    "    for i in range(len(x)):\n",
    "        if treatments[i].find(t)!=-1:\n",
    "            feats.append(x_tests[i])\n",
    "            labels.append(y_tests[i])\n",
    "    # print(len(feats))\n",
    "    feat = np.concatenate(feats)\n",
    "    label = np.concatenate(labels)\n",
    "    print(t+' test accuracy = ', model.score(feat,label))\n",
    "# ALL confusion matrix \n",
    "feat = np.concatenate(x)\n",
    "label = np.concatenate(y)\n",
    "pred = model.predict(feat)\n",
    "cm = confusion_matrix(label, pred, labels=model.classes_)\n",
    "disp = ConfusionMatrixDisplay(confusion_matrix=cm, display_labels=model.classes_)\n",
    "disp.plot()\n",
    "# pH7.4 confusion matrix\n",
    "feats = []\n",
    "labels = []\n",
    "for i in range(len(x)):\n",
    "    if treatments[i].find('pH7.4')!=-1:\n",
    "        feats.append(x_tests[i])\n",
    "        labels.append(y_tests[i])\n",
    "feat = np.concatenate(feats)\n",
    "label = np.concatenate(labels)\n",
    "pred = model.predict(feat)\n",
    "cm = confusion_matrix(label, pred, labels=model.classes_)\n",
    "disp = ConfusionMatrixDisplay(confusion_matrix=cm, display_labels=model.classes_)\n",
    "disp.plot()"
   ]
  },
  {
   "cell_type": "markdown",
   "metadata": {},
   "source": [
    "### Regression"
   ]
  },
  {
   "cell_type": "code",
   "execution_count": null,
   "metadata": {},
   "outputs": [],
   "source": [
    "# training model\n",
    "model = SVR(kernel='rbf', C=100)\n",
    "model = model.fit(x_train,y_train)\n",
    "joblib.dump(model,'./data/models/f6.reg1')"
   ]
  },
  {
   "cell_type": "code",
   "execution_count": null,
   "metadata": {},
   "outputs": [],
   "source": [
    "def pred_data(datacls, treatments,x_trains,x_tests):\n",
    "    feats = []\n",
    "    labels = []\n",
    "    for i in range(len(x)):\n",
    "        if treatments[i]==datacls:\n",
    "            feats.append(x_tests[i])\n",
    "    feat = np.concatenate(feats)\n",
    "    pred = model.predict(feat)\n",
    "    return pred"
   ]
  },
  {
   "cell_type": "code",
   "execution_count": null,
   "metadata": {},
   "outputs": [],
   "source": [
    "model = joblib.load('./data/models/f6.reg1')\n",
    "pred_types = ['pH5.2basal','pH5.2']#['Capbasal','Cap','pH7.4basal','pH7.4',]\n",
    "preds=[]\n",
    "for treatment in pred_types:\n",
    "    preds.append(pred_data(treatment, treatments,x_trains,x_tests))\n",
    "plt.boxplot(preds, labels=pred_types, showfliers=False)\n",
    "plt.xticks(rotation=90)\n",
    "plt.tight_layout()"
   ]
  },
  {
   "cell_type": "code",
   "execution_count": null,
   "metadata": {},
   "outputs": [],
   "source": []
  }
 ],
 "metadata": {
  "interpreter": {
   "hash": "ab4fce4da36998e8a3784a3b1ea772373c07eedc86da55b2021be344f3473b8a"
  },
  "kernelspec": {
   "display_name": "Python 3.7.4 ('bsoid')",
   "language": "python",
   "name": "python3"
  },
  "language_info": {
   "codemirror_mode": {
    "name": "ipython",
    "version": 3
   },
   "file_extension": ".py",
   "mimetype": "text/x-python",
   "name": "python",
   "nbconvert_exporter": "python",
   "pygments_lexer": "ipython3",
   "version": "3.7.4"
  },
  "orig_nbformat": 4,
  "vscode": {
   "interpreter": {
    "hash": "8acdee7afae93418b17e96434b560f4a708f05baea168493a828e21da2c683ef"
   }
  }
 },
 "nbformat": 4,
 "nbformat_minor": 2
}
