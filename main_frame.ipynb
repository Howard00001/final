{
 "cells": [
  {
   "cell_type": "code",
   "execution_count": 1,
   "metadata": {},
   "outputs": [],
   "source": [
    "from sklearn.svm import SVC\n",
    "from sklearn.svm import SVR\n",
    "from sklearn.metrics import confusion_matrix, ConfusionMatrixDisplay\n",
    "from feature_process import *\n",
    "import joblib\n",
    "import numpy as np\n",
    "import os"
   ]
  },
  {
   "cell_type": "markdown",
   "metadata": {},
   "source": [
    "## Classify/Regression"
   ]
  },
  {
   "cell_type": "code",
   "execution_count": 11,
   "metadata": {},
   "outputs": [
    {
     "data": {
      "text/plain": [
       "9"
      ]
     },
     "execution_count": 11,
     "metadata": {},
     "output_type": "execute_result"
    }
   ],
   "source": [
    "np.int(np.round(0.05 / (1 / 100)) * 2 - 1)"
   ]
  },
  {
   "cell_type": "code",
   "execution_count": 2,
   "metadata": {},
   "outputs": [],
   "source": [
    "root = r'../final_data/mix_landmark5/'\n",
    "train_type = 'clf0'\n",
    "\n",
    "motion_score = []"
   ]
  },
  {
   "cell_type": "code",
   "execution_count": 3,
   "metadata": {},
   "outputs": [],
   "source": [
    "def assign_label(feat, motions, motion_score, treatment, usage='clf0'):\n",
    "    if usage=='clf0':\n",
    "        labels = np.zeros_like(feat[:,0], dtype=int)\n",
    "        if treatment == 'pH5.2':\n",
    "            labels[:] = 2\n",
    "        elif treatment == 'pH7.4':\n",
    "            labels[:] = 0\n",
    "        elif treatment == 'basal':\n",
    "            labels[:] = 0\n",
    "        elif treatment == 'Cap':\n",
    "            labels[:] = 1\n",
    "    elif usage=='reg2':\n",
    "        labels = np.zeros_like(feat[:,0], dtype=int)\n",
    "        if treatment == 'pH5.2':\n",
    "            labels[:] = 1\n",
    "        elif treatment == 'pH7.4':\n",
    "            labels[:] = -1\n",
    "        elif treatment == 'Cap':\n",
    "            labels[:] = 1\n",
    "        elif treatment == 'basal':\n",
    "            labels[:] = -1\n",
    "    return labels"
   ]
  },
  {
   "cell_type": "code",
   "execution_count": 4,
   "metadata": {},
   "outputs": [],
   "source": [
    "x = []\n",
    "y = []\n",
    "treatments = []\n",
    "files = os.listdir(root)\n",
    "for file in files:\n",
    "    dlc1 = dlc(root+file, True, 5)\n",
    "    # feat = count_dist(dlc1.raw) # feature from landmark 7 \n",
    "    feat = combine_feat(dlc1, sel_dist=[[0,3],[3,4],[1,2]], sel_ang=[[0,1,3],[1,3,4]], sel_coord=[], normalize=[0,1], index=False)\n",
    "\n",
    "    x.append(feat)\n",
    "    treatment = file.split('-')[0]\n",
    "    if file.find('basal')!=-1:\n",
    "        y.append(assign_label(feat, [], motion_score, 'basal', train_type))\n",
    "        treatments.append(treatment+'basal')\n",
    "    else:\n",
    "        y.append(assign_label(feat, [], motion_score, treatment, train_type))\n",
    "        treatments.append(treatment)\n",
    "feat_dim = x[0].shape[1]\n",
    "x=np.array(x,dtype=object)\n",
    "y=np.array(y,dtype=object)"
   ]
  },
  {
   "cell_type": "code",
   "execution_count": 5,
   "metadata": {},
   "outputs": [
    {
     "name": "stdout",
     "output_type": "stream",
     "text": [
      "basal: 41  ,pain: 15  sng: 14  pH7.4: 12\n"
     ]
    }
   ],
   "source": [
    "# data index of different treatments\n",
    "basal_ind = [i for i, j in enumerate(treatments) if j.find('basal')!=-1]\n",
    "pain_ind = [i for i, j in enumerate(treatments) if j == 'Cap']\n",
    "sng_ind = [i for i, j in enumerate(treatments) if j == 'pH5.2']\n",
    "ro_ind = [i for i, j in enumerate(treatments) if j == 'pH7.4']\n",
    "print('basal:',len(basal_ind),' ,pain:',len(pain_ind),' sng:',len(sng_ind),' pH7.4:',len(ro_ind))\n",
    "# setting training set index\n",
    "trainset = list(set(basal_ind) | set(pain_ind) | set(sng_ind))\n",
    "# trainset = list(set(basal_ind) | set(pain_ind))"
   ]
  },
  {
   "cell_type": "code",
   "execution_count": 7,
   "metadata": {},
   "outputs": [
    {
     "name": "stdout",
     "output_type": "stream",
     "text": [
      "labels: [0 1 2]\n"
     ]
    }
   ],
   "source": [
    "x_trains = []\n",
    "y_trains = []\n",
    "x_tests = []\n",
    "y_tests = []\n",
    "shuffles = [] #shuffle for fixed train test split\n",
    "for i in range(len(x)):\n",
    "    feat = x[i]\n",
    "    label = y[i]\n",
    "\n",
    "    if i in trainset and treatments[i].find('pH7.4')==-1:\n",
    "        #shuffle\n",
    "        ind = np.arange(len(feat))\n",
    "        np.random.shuffle(ind)\n",
    "        shuffles.append(ind)\n",
    "        feat = feat[ind]\n",
    "        #train test split\n",
    "        sp = len(feat)//10\n",
    "        if treatments[i].find('pH7.4')!=-1:\n",
    "            # sp = len(feat)//10\n",
    "        x_trains.append(feat[:sp,:])\n",
    "        y_trains.append(label[:sp])\n",
    "        x_tests.append(feat[sp:,:])\n",
    "        y_tests.append(label[sp:])\n",
    "    else:\n",
    "        shuffles.append([])\n",
    "        x_trains.append([])\n",
    "        y_trains.append([])\n",
    "        x_tests.append(feat)\n",
    "        y_tests.append(label)\n",
    "\n",
    "x_train = np.concatenate([x for x in x_trains if len(x) != 0])\n",
    "y_train = np.concatenate([y for y in y_trains if len(y) != 0])\n",
    "print('labels:', np.unique(y_train))"
   ]
  },
  {
   "cell_type": "markdown",
   "metadata": {},
   "source": [
    "### Classfy"
   ]
  },
  {
   "cell_type": "code",
   "execution_count": 8,
   "metadata": {},
   "outputs": [],
   "source": [
    "# training model\n",
    "model = SVC(kernel='rbf', C=1000)\n",
    "model = model.fit(x_train,y_train)\n",
    "# joblib.dump(model,'../final_data/models/f20.mcclf')"
   ]
  },
  {
   "cell_type": "code",
   "execution_count": 9,
   "metadata": {},
   "outputs": [
    {
     "name": "stdout",
     "output_type": "stream",
     "text": [
      "Cap train accuracy =  0.7021691811153644\n",
      "pH5.2 train accuracy =  0.7040116645649432\n",
      "Cap test accuracy =  0.6963645758671845\n",
      "pH5.2 test accuracy =  0.6903909607288832\n",
      "pH7.4 test accuracy =  0.8552797686919694\n"
     ]
    },
    {
     "data": {
      "text/plain": [
       "<sklearn.metrics._plot.confusion_matrix.ConfusionMatrixDisplay at 0x1feb0ea5888>"
      ]
     },
     "execution_count": 9,
     "metadata": {},
     "output_type": "execute_result"
    },
    {
     "data": {
      "image/png": "[encoded data removed]",
      "text/plain": [
       "<Figure size 432x288 with 2 Axes>"
      ]
     },
     "metadata": {
      "needs_background": "light"
     },
     "output_type": "display_data"
    },
    {
     "data": {
      "image/png": "[encoded data removed]",
      "text/plain": [
       "<Figure size 432x288 with 2 Axes>"
      ]
     },
     "metadata": {
      "needs_background": "light"
     },
     "output_type": "display_data"
    }
   ],
   "source": [
    "# training dataset testing\n",
    "for t in ['Cap', 'pH5.2']:\n",
    "    feats = []\n",
    "    labels = []\n",
    "    for i in range(len(x)):\n",
    "        if treatments[i].find(t)!=-1:\n",
    "            feats.append(x_trains[i])\n",
    "            labels.append(y_trains[i])\n",
    "    feat = np.concatenate(feats)\n",
    "    label = np.concatenate(labels)\n",
    "    # print(len(feats))\n",
    "    print(t+' train accuracy = ', model.score(feat,label))\n",
    "# testing dataset testing\n",
    "for t in ['Cap', 'pH5.2', 'pH7.4']:\n",
    "    feats = []\n",
    "    labels = []\n",
    "    for i in range(len(x)):\n",
    "        if treatments[i].find(t)!=-1:\n",
    "            feats.append(x_tests[i])\n",
    "            labels.append(y_tests[i])\n",
    "    # print(len(feats))\n",
    "    feat = np.concatenate(feats)\n",
    "    label = np.concatenate(labels)\n",
    "    print(t+' test accuracy = ', model.score(feat,label))\n",
    "# ALL confusion matrix \n",
    "feat = np.concatenate(x)\n",
    "label = np.concatenate(y)\n",
    "pred = model.predict(feat)\n",
    "cm = confusion_matrix(label, pred, labels=model.classes_)\n",
    "disp = ConfusionMatrixDisplay(confusion_matrix=cm, display_labels=model.classes_)\n",
    "disp.plot()\n",
    "# pH7.4 confusion matrix\n",
    "feats = []\n",
    "labels = []\n",
    "for i in range(len(x)):\n",
    "    if treatments[i].find('pH7.4')!=-1:\n",
    "        feats.append(x_tests[i])\n",
    "        labels.append(y_tests[i])\n",
    "feat = np.concatenate(feats)\n",
    "label = np.concatenate(labels)\n",
    "pred = model.predict(feat)\n",
    "cm = confusion_matrix(label, pred, labels=model.classes_)\n",
    "disp = ConfusionMatrixDisplay(confusion_matrix=cm, display_labels=model.classes_)\n",
    "disp.plot()"
   ]
  },
  {
   "cell_type": "markdown",
   "metadata": {},
   "source": [
    "### unseen data"
   ]
  },
  {
   "cell_type": "code",
   "execution_count": 12,
   "metadata": {},
   "outputs": [
    {
     "data": {
      "text/plain": [
       "<sklearn.metrics._plot.confusion_matrix.ConfusionMatrixDisplay at 0x1feb31dd3c8>"
      ]
     },
     "execution_count": 12,
     "metadata": {},
     "output_type": "execute_result"
    },
    {
     "data": {
      "image/png": "[encoded data removed]",
      "text/plain": [
       "<Figure size 432x288 with 2 Axes>"
      ]
     },
     "metadata": {
      "needs_background": "light"
     },
     "output_type": "display_data"
    }
   ],
   "source": [
    "root = r'../final_data/old1_landmark5/'\n",
    "\n",
    "x_t = []\n",
    "y_t = []\n",
    "treatments_t = []\n",
    "files = os.listdir(root)\n",
    "for file in files:\n",
    "    dlc1 = dlc(root+file, True, 5)\n",
    "    # feat = count_dist(dlc1.raw) # feature from landmark 7 \n",
    "    feat = combine_feat(dlc1, sel_dist=[[0,3],[3,4],[1,2]], sel_ang=[[0,1,3],[1,3,4]], sel_coord=[], normalize=[0,1], index=False)\n",
    "\n",
    "    x_t.append(feat)\n",
    "    treatment = file.split('-')[0]\n",
    "    if file.find('basal')!=-1:\n",
    "        y_t.append(assign_label(feat, [], motion_score, 'basal', train_type))\n",
    "        treatments_t.append(treatment+'basal')\n",
    "    else:\n",
    "        y_t.append(assign_label(feat, [], motion_score, treatment, train_type))\n",
    "        treatments_t.append(treatment)\n",
    "feat_dim = x[0].shape[1]\n",
    "x_t=np.array(x_t,dtype=object)\n",
    "y_t=np.array(y_t,dtype=object)\n",
    "\n",
    "# ALL confusion matrix \n",
    "feat = np.concatenate(x_t)\n",
    "label = np.concatenate(y_t)\n",
    "pred = model.predict(feat)\n",
    "cm = confusion_matrix(label, pred, labels=model.classes_)\n",
    "disp = ConfusionMatrixDisplay(confusion_matrix=cm, display_labels=model.classes_)\n",
    "disp.plot()"
   ]
  },
  {
   "cell_type": "code",
   "execution_count": null,
   "metadata": {},
   "outputs": [],
   "source": []
  }
 ],
 "metadata": {
  "interpreter": {
   "hash": "ab4fce4da36998e8a3784a3b1ea772373c07eedc86da55b2021be344f3473b8a"
  },
  "kernelspec": {
   "display_name": "Python 3.7.4 ('bsoid')",
   "language": "python",
   "name": "python3"
  },
  "language_info": {
   "codemirror_mode": {
    "name": "ipython",
    "version": 3
   },
   "file_extension": ".py",
   "mimetype": "text/x-python",
   "name": "python",
   "nbconvert_exporter": "python",
   "pygments_lexer": "ipython3",
   "version": "3.7.4"
  },
  "orig_nbformat": 4
 },
 "nbformat": 4,
 "nbformat_minor": 2
}
