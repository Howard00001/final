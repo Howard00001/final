{
 "cells": [
  {
   "cell_type": "markdown",
   "metadata": {},
   "source": [
    "### Extract Bsoid feature"
   ]
  },
  {
   "cell_type": "code",
   "execution_count": 1,
   "metadata": {},
   "outputs": [],
   "source": [
    "from bsoid_kit import *"
   ]
  },
  {
   "cell_type": "code",
   "execution_count": 3,
   "metadata": {},
   "outputs": [
    {
     "name": "stderr",
     "output_type": "stream",
     "text": [
      "100%|██████████| 7/7 [00:00<00:00, 11.08it/s]\n",
      "100%|██████████| 7/7 [00:00<00:00, 12.43it/s]\n",
      "100%|██████████| 7/7 [00:00<00:00, 11.28it/s]\n",
      "100%|██████████| 7/7 [00:00<00:00, 13.20it/s]\n",
      "100%|██████████| 7/7 [00:00<00:00, 39.95it/s]\n",
      "100%|██████████| 7/7 [00:00<00:00, 12.36it/s]\n",
      "100%|██████████| 7/7 [00:00<00:00, 10.67it/s]\n",
      "100%|██████████| 7/7 [00:00<00:00, 11.83it/s]\n",
      "100%|██████████| 7/7 [00:00<00:00, 11.15it/s]\n",
      "100%|██████████| 7/7 [00:00<00:00, 13.08it/s]\n",
      "100%|██████████| 7/7 [00:00<00:00, 10.23it/s]\n",
      "100%|██████████| 7/7 [00:00<00:00, 11.10it/s]\n",
      "100%|██████████| 7/7 [00:00<00:00, 14.76it/s]\n",
      "100%|██████████| 7/7 [00:00<00:00, 11.89it/s]\n",
      "100%|██████████| 7/7 [00:00<00:00, 10.44it/s]\n",
      "100%|██████████| 7/7 [00:00<00:00, 10.22it/s]\n",
      "100%|██████████| 7/7 [00:00<00:00, 12.56it/s]\n",
      "100%|██████████| 7/7 [00:00<00:00, 13.91it/s]\n",
      "100%|██████████| 7/7 [00:00<00:00, 14.60it/s]\n",
      "100%|██████████| 7/7 [00:00<00:00, 13.04it/s]\n",
      "100%|██████████| 7/7 [00:00<00:00,  8.66it/s]\n",
      "100%|██████████| 7/7 [00:00<00:00, 10.54it/s]\n",
      "100%|██████████| 7/7 [00:01<00:00,  6.16it/s]\n",
      "100%|██████████| 7/7 [00:00<00:00, 12.16it/s]\n",
      "100%|██████████| 7/7 [00:00<00:00, 10.49it/s]\n",
      "100%|██████████| 7/7 [00:00<00:00, 19.27it/s]\n",
      "100%|██████████| 7/7 [00:00<00:00, 10.37it/s]\n",
      "100%|██████████| 7/7 [00:00<00:00, 11.19it/s]\n",
      "100%|██████████| 7/7 [00:00<00:00,  9.54it/s]\n",
      "100%|██████████| 7/7 [00:00<00:00, 11.06it/s]\n",
      "100%|██████████| 7/7 [00:00<00:00, 10.44it/s]\n",
      "100%|██████████| 7/7 [00:00<00:00, 10.82it/s]\n",
      "100%|██████████| 7/7 [00:00<00:00, 11.26it/s]\n",
      "100%|██████████| 7/7 [00:00<00:00, 11.42it/s]\n",
      "100%|██████████| 7/7 [00:00<00:00, 11.52it/s]\n",
      "100%|██████████| 7/7 [00:00<00:00, 12.19it/s]\n",
      "100%|██████████| 7/7 [00:00<00:00, 11.85it/s]\n",
      "100%|██████████| 7/7 [00:00<00:00, 11.53it/s]\n",
      "100%|██████████| 7/7 [00:00<00:00,  9.58it/s]\n",
      "100%|██████████| 7/7 [00:00<00:00, 10.78it/s]\n",
      "100%|██████████| 7/7 [00:00<00:00, 12.56it/s]\n",
      "100%|██████████| 7/7 [00:00<00:00, 10.96it/s]\n",
      "100%|██████████| 7/7 [00:00<00:00, 11.14it/s]\n",
      "100%|██████████| 7/7 [00:00<00:00, 11.03it/s]\n",
      "100%|██████████| 7/7 [00:00<00:00, 12.05it/s]\n",
      "100%|██████████| 7/7 [00:00<00:00, 10.79it/s]\n",
      "100%|██████████| 7/7 [00:00<00:00, 11.27it/s]\n",
      "100%|██████████| 7/7 [00:00<00:00, 11.06it/s]\n",
      "100%|██████████| 7/7 [00:00<00:00, 11.44it/s]\n",
      "100%|██████████| 7/7 [00:00<00:00, 11.30it/s]\n",
      "100%|██████████| 7/7 [00:00<00:00, 10.92it/s]\n",
      "100%|██████████| 7/7 [00:00<00:00, 11.56it/s]\n",
      "100%|██████████| 7/7 [00:00<00:00, 11.40it/s]\n",
      "100%|██████████| 7/7 [00:00<00:00, 11.44it/s]\n",
      "100%|██████████| 7/7 [00:00<00:00, 16.88it/s]\n",
      "100%|██████████| 7/7 [00:00<00:00, 13.36it/s]\n",
      "100%|██████████| 7/7 [00:00<00:00, 10.81it/s]\n",
      "100%|██████████| 7/7 [00:00<00:00, 12.72it/s]\n",
      "100%|██████████| 7/7 [00:00<00:00, 16.89it/s]\n",
      "100%|██████████| 7/7 [00:00<00:00, 14.78it/s]\n",
      "100%|██████████| 7/7 [00:00<00:00, 12.22it/s]\n",
      "100%|██████████| 7/7 [00:00<00:00, 12.77it/s]\n",
      "100%|██████████| 7/7 [00:00<00:00, 11.65it/s]\n",
      "100%|██████████| 7/7 [00:00<00:00, 12.08it/s]\n",
      "100%|██████████| 7/7 [00:00<00:00, 11.65it/s]\n",
      "100%|██████████| 7/7 [00:00<00:00, 12.92it/s]\n",
      "100%|██████████| 7/7 [00:00<00:00, 11.61it/s]\n",
      "100%|██████████| 7/7 [00:00<00:00, 13.73it/s]\n",
      "100%|██████████| 7/7 [00:00<00:00, 10.92it/s]\n",
      "100%|██████████| 7/7 [00:00<00:00, 10.96it/s]\n",
      "100%|██████████| 7/7 [00:00<00:00, 12.67it/s]\n",
      "100%|██████████| 7/7 [00:00<00:00, 12.84it/s]\n",
      "100%|██████████| 7/7 [00:00<00:00, 10.69it/s]\n",
      "100%|██████████| 7/7 [00:00<00:00, 11.19it/s]\n",
      "100%|██████████| 7/7 [00:00<00:00, 10.83it/s]\n",
      "100%|██████████| 7/7 [00:00<00:00, 10.42it/s]\n",
      "100%|██████████| 7/7 [00:00<00:00, 10.72it/s]\n",
      "100%|██████████| 7/7 [00:00<00:00, 11.33it/s]\n",
      "100%|██████████| 7/7 [00:00<00:00, 12.73it/s]\n",
      "100%|██████████| 7/7 [00:00<00:00, 13.64it/s]\n",
      "100%|██████████| 7/7 [00:00<00:00, 10.55it/s]\n",
      "100%|██████████| 7/7 [00:00<00:00, 11.71it/s]\n"
     ]
    }
   ],
   "source": [
    "root = r'../final_data/mix_landmark7/'\n",
    "outpath = r'../final_data/mix_bsoidfeat/'\n",
    "landmarknum = 7\n",
    "framerate = 100\n",
    "shift = False\n",
    "\n",
    "files = os.listdir(root)\n",
    "if not os.path.isdir(outpath):\n",
    "    os.makedirs(outpath)\n",
    "for file in files:\n",
    "    filename = root+'/'+file\n",
    "    savename = (outpath+'/'+file).replace('.csv','')\n",
    "    # save feat only\n",
    "    feat = bsoidfeat(filename,landmarknum,framerate,savename,shift=shift)"
   ]
  },
  {
   "cell_type": "markdown",
   "metadata": {},
   "source": [
    "### Start"
   ]
  },
  {
   "cell_type": "code",
   "execution_count": 1,
   "metadata": {},
   "outputs": [],
   "source": [
    "from feature_process import *\n",
    "from data_process import *"
   ]
  },
  {
   "cell_type": "code",
   "execution_count": 2,
   "metadata": {},
   "outputs": [],
   "source": [
    "dlc_root = r'..\\final_data\\mix_landmark5'\n",
    "bsoid_root = r'..\\final_data\\mix_bsoidfeat'"
   ]
  },
  {
   "cell_type": "code",
   "execution_count": 3,
   "metadata": {},
   "outputs": [
    {
     "name": "stdout",
     "output_type": "stream",
     "text": [
      "basal: 41  ,pain: 15  sng: 14  pH7.4: 12\n"
     ]
    }
   ],
   "source": [
    "bsoid = DataSet(dlc_root, bsoid_root)\n",
    "bsoid.generate_feature(bsoid=False)\n",
    "bsoid.generate_train_test2(split=0.1)"
   ]
  },
  {
   "cell_type": "code",
   "execution_count": 4,
   "metadata": {},
   "outputs": [
    {
     "name": "stdout",
     "output_type": "stream",
     "text": [
      "train samples: 52022\n"
     ]
    }
   ],
   "source": [
    "x_train = np.concatenate(bsoid.data['x_train'])\n",
    "y_train = np.concatenate(bsoid.data['y_train'])\n",
    "print(\"train samples:\", len(y_train))"
   ]
  },
  {
   "cell_type": "code",
   "execution_count": 5,
   "metadata": {},
   "outputs": [],
   "source": [
    "model = Analysis()\n",
    "model.train(x_train,y_train)"
   ]
  },
  {
   "cell_type": "code",
   "execution_count": 6,
   "metadata": {},
   "outputs": [
    {
     "name": "stdout",
     "output_type": "stream",
     "text": [
      "accuracy =  0.7303064088270347\n"
     ]
    },
    {
     "data": {
      "image/png": "[encoded data removed]",
      "text/plain": [
       "<Figure size 432x288 with 2 Axes>"
      ]
     },
     "metadata": {
      "needs_background": "light"
     },
     "output_type": "display_data"
    }
   ],
   "source": [
    "model.plot_cm(x_train, y_train)"
   ]
  },
  {
   "cell_type": "code",
   "execution_count": 7,
   "metadata": {},
   "outputs": [
    {
     "name": "stdout",
     "output_type": "stream",
     "text": [
      "accuracy =  0.7148025768112601\n"
     ]
    },
    {
     "data": {
      "image/png": "[encoded data removed]",
      "text/plain": [
       "<Figure size 432x288 with 2 Axes>"
      ]
     },
     "metadata": {
      "needs_background": "light"
     },
     "output_type": "display_data"
    }
   ],
   "source": [
    "x_test = np.concatenate(bsoid.data['x_test'])\n",
    "y_test = np.concatenate(bsoid.data['y_test'])\n",
    "model.plot_cm(x_test, y_test)"
   ]
  },
  {
   "cell_type": "code",
   "execution_count": 8,
   "metadata": {},
   "outputs": [
    {
     "name": "stdout",
     "output_type": "stream",
     "text": [
      "accuracy =  0.6973403816375172\n"
     ]
    },
    {
     "data": {
      "image/png": "[encoded data removed]",
      "text/plain": [
       "<Figure size 432x288 with 2 Axes>"
      ]
     },
     "metadata": {
      "needs_background": "light"
     },
     "output_type": "display_data"
    }
   ],
   "source": [
    "x_val = np.concatenate(bsoid.data['x_val'])\n",
    "y_val = np.concatenate(bsoid.data['y_val'])\n",
    "model.plot_cm(x_val, y_val)"
   ]
  },
  {
   "cell_type": "code",
   "execution_count": null,
   "metadata": {},
   "outputs": [],
   "source": []
  }
 ],
 "metadata": {
  "kernelspec": {
   "display_name": "Python 3.7.4 ('bsoid')",
   "language": "python",
   "name": "python3"
  },
  "language_info": {
   "codemirror_mode": {
    "name": "ipython",
    "version": 3
   },
   "file_extension": ".py",
   "mimetype": "text/x-python",
   "name": "python",
   "nbconvert_exporter": "python",
   "pygments_lexer": "ipython3",
   "version": "3.7.4"
  },
  "orig_nbformat": 4,
  "vscode": {
   "interpreter": {
    "hash": "ab4fce4da36998e8a3784a3b1ea772373c07eedc86da55b2021be344f3473b8a"
   }
  }
 },
 "nbformat": 4,
 "nbformat_minor": 2
}
