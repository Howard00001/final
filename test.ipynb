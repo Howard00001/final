{
 "cells": [
  {
   "cell_type": "markdown",
   "metadata": {},
   "source": [
    "### Combine test"
   ]
  },
  {
   "cell_type": "code",
   "execution_count": 1,
   "metadata": {},
   "outputs": [],
   "source": [
    "from feature_process import *\n",
    "from data_process import *\n",
    "from pose_cluster import *"
   ]
  },
  {
   "cell_type": "code",
   "execution_count": 2,
   "metadata": {},
   "outputs": [
    {
     "name": "stdout",
     "output_type": "stream",
     "text": [
      "(9136, 14)\n",
      "(913, 50)\n"
     ]
    }
   ],
   "source": [
    "dlc_path = r'..\\final_data\\new_landmark7/Cap-C330-basal.csv'\n",
    "vids = ''#r'E:\\mice\\dataset\\video\\top_segment\\20220428-TV1KO_M\\Cap-C330\\basal_color.avi'\n",
    "m1 = miceFeature('basal',dlc_path, vids=vids)\n",
    "print(m1.dlc_raw.shape)\n",
    "print(m1.feature.shape)"
   ]
  },
  {
   "cell_type": "code",
   "execution_count": 3,
   "metadata": {},
   "outputs": [
    {
     "name": "stdout",
     "output_type": "stream",
     "text": [
      "basal: 23  ,pain: 9  sng: 9  pH7.4: 5\n"
     ]
    }
   ],
   "source": [
    "dlc_root = r'..\\final_data\\new_landmark7'\n",
    "dlc7 = DataSet(dlc_root)\n"
   ]
  },
  {
   "cell_type": "code",
   "execution_count": 4,
   "metadata": {},
   "outputs": [],
   "source": [
    "dlc7.generate_feature()\n",
    "dlc7.generate_train_test()"
   ]
  },
  {
   "cell_type": "code",
   "execution_count": 5,
   "metadata": {},
   "outputs": [
    {
     "data": {
      "text/plain": [
       "(17289,)"
      ]
     },
     "execution_count": 5,
     "metadata": {},
     "output_type": "execute_result"
    }
   ],
   "source": [
    "dlc7.y_train.shape"
   ]
  },
  {
   "cell_type": "code",
   "execution_count": 7,
   "metadata": {},
   "outputs": [
    {
     "name": "stdout",
     "output_type": "stream",
     "text": [
      "motions num:  20\n"
     ]
    },
    {
     "data": {
      "image/png": "[encoded data removed]",
      "text/plain": [
       "<Figure size 432x288 with 1 Axes>"
      ]
     },
     "metadata": {
      "needs_background": "light"
     },
     "output_type": "display_data"
    },
    {
     "data": {
      "text/plain": [
       "([266,\n",
       "  859,\n",
       "  144,\n",
       "  141,\n",
       "  524,\n",
       "  556,\n",
       "  245,\n",
       "  508,\n",
       "  355,\n",
       "  235,\n",
       "  235,\n",
       "  1678,\n",
       "  895,\n",
       "  265,\n",
       "  92,\n",
       "  142,\n",
       "  34,\n",
       "  301,\n",
       "  251,\n",
       "  203],\n",
       " [357,\n",
       "  758,\n",
       "  88,\n",
       "  158,\n",
       "  580,\n",
       "  447,\n",
       "  221,\n",
       "  627,\n",
       "  310,\n",
       "  152,\n",
       "  229,\n",
       "  1346,\n",
       "  366,\n",
       "  199,\n",
       "  82,\n",
       "  87,\n",
       "  67,\n",
       "  317,\n",
       "  241,\n",
       "  650])"
      ]
     },
     "execution_count": 7,
     "metadata": {},
     "output_type": "execute_result"
    }
   ],
   "source": [
    "cluster_micedata(dlc7, sel=['random'], sel_num=20, \n",
    "                    embed=False, k=20, cls_type='km', clf_type='svm')"
   ]
  },
  {
   "cell_type": "markdown",
   "metadata": {},
   "source": [
    "### wave test"
   ]
  },
  {
   "cell_type": "code",
   "execution_count": 10,
   "metadata": {},
   "outputs": [],
   "source": [
    "from scipy import signal\n",
    "import matplotlib.pyplot as plt\n",
    "from scipy.fft import fft, fftfreq"
   ]
  },
  {
   "cell_type": "code",
   "execution_count": 11,
   "metadata": {},
   "outputs": [],
   "source": [
    "t = np.linspace(-1, 1, 10, endpoint=False)"
   ]
  },
  {
   "cell_type": "code",
   "execution_count": 12,
   "metadata": {},
   "outputs": [],
   "source": [
    "sig  = np.cos(2 * np.pi * 7 * t) + signal.gausspulse(t - 0.4, fc=2)"
   ]
  },
  {
   "cell_type": "code",
   "execution_count": 70,
   "metadata": {},
   "outputs": [
    {
     "data": {
      "text/plain": [
       "<matplotlib.image.AxesImage at 0x2a84402e5c8>"
      ]
     },
     "execution_count": 70,
     "metadata": {},
     "output_type": "execute_result"
    },
    {
     "data": {
      "image/png": "[encoded data removed]",
      "text/plain": [
       "<Figure size 432x288 with 1 Axes>"
      ]
     },
     "metadata": {
      "needs_background": "light"
     },
     "output_type": "display_data"
    }
   ],
   "source": [
    "widths = np.arange(1, 5)\n",
    "cwtmatr = signal.cwt(sig, signal.ricker, widths)\n",
    "plt.imshow(cwtmatr, extent=[-1, 1, 5, 1], cmap='PRGn', aspect='auto',\n",
    "           vmax=abs(cwtmatr).max(), vmin=-abs(cwtmatr).max())"
   ]
  },
  {
   "cell_type": "code",
   "execution_count": 71,
   "metadata": {},
   "outputs": [],
   "source": [
    "yf = fft(np.array([sig,sig]))\n",
    "xf = fftfreq(10, 1)"
   ]
  },
  {
   "cell_type": "code",
   "execution_count": 72,
   "metadata": {},
   "outputs": [
    {
     "name": "stdout",
     "output_type": "stream",
     "text": [
      "[0.02680023 0.03709751 0.21742501 1.1719986  6.06084198 2.55082662\n",
      " 6.06084198 1.1719986  0.21742501 0.03709751]\n",
      "[0.02680023 0.03709751 0.21742501 1.1719986  6.06084198 2.55082662\n",
      " 6.06084198 1.1719986  0.21742501 0.03709751]\n"
     ]
    }
   ],
   "source": [
    "for x in abs(yf):\n",
    "    print(x)"
   ]
  },
  {
   "cell_type": "code",
   "execution_count": 43,
   "metadata": {},
   "outputs": [
    {
     "data": {
      "text/plain": [
       "[<matplotlib.lines.Line2D at 0x2a843fae708>]"
      ]
     },
     "execution_count": 43,
     "metadata": {},
     "output_type": "execute_result"
    },
    {
     "data": {
      "image/png": "[encoded data removed]",
      "text/plain": [
       "<Figure size 432x288 with 1 Axes>"
      ]
     },
     "metadata": {
      "needs_background": "light"
     },
     "output_type": "display_data"
    }
   ],
   "source": [
    "plt.plot(xf, abs(yf), linestyle='-', color='blue')"
   ]
  },
  {
   "cell_type": "code",
   "execution_count": 76,
   "metadata": {},
   "outputs": [
    {
     "data": {
      "text/plain": [
       "array([4, 4], dtype=int64)"
      ]
     },
     "execution_count": 76,
     "metadata": {},
     "output_type": "execute_result"
    }
   ],
   "source": [
    "np.argmax(yf,axis=1)"
   ]
  },
  {
   "cell_type": "code",
   "execution_count": 54,
   "metadata": {},
   "outputs": [
    {
     "data": {
      "text/plain": [
       "(2, 2)"
      ]
     },
     "execution_count": 54,
     "metadata": {},
     "output_type": "execute_result"
    }
   ],
   "source": [
    "www.shape"
   ]
  },
  {
   "cell_type": "markdown",
   "metadata": {},
   "source": [
    "### Motion test"
   ]
  },
  {
   "cell_type": "code",
   "execution_count": 10,
   "metadata": {},
   "outputs": [],
   "source": [
    "motionB = [0]*10"
   ]
  },
  {
   "cell_type": "code",
   "execution_count": 11,
   "metadata": {},
   "outputs": [
    {
     "name": "stdout",
     "output_type": "stream",
     "text": [
      "[10, 0, 0, 0, 0, 0, 0, 0, 0, 0]\n"
     ]
    }
   ],
   "source": [
    "motionB[0] = 10\n",
    "print(motionB)"
   ]
  },
  {
   "cell_type": "code",
   "execution_count": null,
   "metadata": {},
   "outputs": [],
   "source": []
  }
 ],
 "metadata": {
  "kernelspec": {
   "display_name": "Python 3.7.4 ('bsoid')",
   "language": "python",
   "name": "python3"
  },
  "language_info": {
   "codemirror_mode": {
    "name": "ipython",
    "version": 3
   },
   "file_extension": ".py",
   "mimetype": "text/x-python",
   "name": "python",
   "nbconvert_exporter": "python",
   "pygments_lexer": "ipython3",
   "version": "3.7.4"
  },
  "orig_nbformat": 4,
  "vscode": {
   "interpreter": {
    "hash": "ab4fce4da36998e8a3784a3b1ea772373c07eedc86da55b2021be344f3473b8a"
   }
  }
 },
 "nbformat": 4,
 "nbformat_minor": 2
}
