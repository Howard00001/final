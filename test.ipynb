{
 "cells": [
  {
   "cell_type": "markdown",
   "metadata": {},
   "source": [
    "### Combine test"
   ]
  },
  {
   "cell_type": "code",
   "execution_count": 1,
   "metadata": {},
   "outputs": [],
   "source": [
    "from feature_process import *\n",
    "from data_process import *\n",
    "from pose_cluster import *"
   ]
  },
  {
   "cell_type": "code",
   "execution_count": 23,
   "metadata": {},
   "outputs": [
    {
     "name": "stdout",
     "output_type": "stream",
     "text": [
      "(9150, 14)\n",
      "(9150, 5)\n"
     ]
    }
   ],
   "source": [
    "dlc_path = r'..\\final_data\\mix_landmark7/Cap-C330-basal.csv'\n",
    "bs_path = r'..\\final_data\\mix_bsoidfeat/Cap-C330-basal'\n",
    "vids = ''#r'E:\\mice\\dataset\\video\\top_segment\\20220428-TV1KO_M\\Cap-C330\\basal_color.avi'\n",
    "m1 = miceFeature('basal',dlc_path, bs_path, feat_type='frame')\n",
    "print(m1.dlc_raw.shape)\n",
    "print(m1.feature.shape)"
   ]
  },
  {
   "cell_type": "code",
   "execution_count": 9,
   "metadata": {},
   "outputs": [],
   "source": [
    "seg = cwt_signal(m1.feature, window=10, step=10, flat=False)\n",
    "feat = generate_tmpfeat(m1.feature, window=10, step=10)"
   ]
  },
  {
   "cell_type": "code",
   "execution_count": 36,
   "metadata": {},
   "outputs": [
    {
     "name": "stdout",
     "output_type": "stream",
     "text": [
      "(9149, 2)\n",
      "(9149, 3)\n",
      "(9149, 4)\n",
      "(913, 10, 24)\n"
     ]
    }
   ],
   "source": [
    "dist = count_dist(m1.dlc_raw, [[0,3],[3,6],[0,1],[0,2],[3,4],[3,5]])[1:]\n",
    "ang = count_angle(m1.dlc_raw, [[1,3,2],[0,3,6],[4,3,5]])[1:]\n",
    "disp = count_disp(m1.dlc_raw, step=1, threshold=None)\n",
    "# frame feature\n",
    "feat = dist[:,0:2]\n",
    "print(feat.shape)\n",
    "feat = np.hstack([feat, ang[:,0:1]])\n",
    "print(feat.shape)\n",
    "feat = np.hstack([feat, disp[:,0:1]])\n",
    "print(feat.shape)\n",
    "# segment feature\n",
    "seg = cwt_signal(feat, window=10, step=10,flat=False)\n",
    "print(seg.shape)"
   ]
  },
  {
   "cell_type": "code",
   "execution_count": 55,
   "metadata": {},
   "outputs": [],
   "source": [
    "x = feat[0:10,0:4]\n",
    "t = np.arange(len(x))\n",
    "dt = 1              # sampling frequency\n",
    "dj = 0.2             # scale distribution parameter\n",
    "wavelet = wavelets.Morlet()\n",
    "wa = transform.WaveletTransformTorch(dt, dj, wavelet, cuda=False)"
   ]
  },
  {
   "cell_type": "code",
   "execution_count": 60,
   "metadata": {},
   "outputs": [
    {
     "data": {
      "text/plain": [
       "[<matplotlib.lines.Line2D at 0x24544f74400>]"
      ]
     },
     "execution_count": 60,
     "metadata": {},
     "output_type": "execute_result"
    },
    {
     "data": {
      "image/png": "[encoded data removed]",
      "text/plain": [
       "<Figure size 640x480 with 1 Axes>"
      ]
     },
     "metadata": {},
     "output_type": "display_data"
    }
   ],
   "source": [
    "plt.plot(x[:,0])"
   ]
  },
  {
   "cell_type": "code",
   "execution_count": 59,
   "metadata": {},
   "outputs": [
    {
     "data": {
      "text/plain": [
       "<matplotlib.image.AxesImage at 0x24544e1e880>"
      ]
     },
     "execution_count": 59,
     "metadata": {},
     "output_type": "execute_result"
    },
    {
     "data": {
      "image/png": "[encoded data removed]",
      "text/plain": [
       "<Figure size 640x480 with 1 Axes>"
      ]
     },
     "metadata": {},
     "output_type": "display_data"
    }
   ],
   "source": [
    "plt.imshow(wa.power(x)[:,:,0].T)"
   ]
  },
  {
   "cell_type": "code",
   "execution_count": 57,
   "metadata": {},
   "outputs": [
    {
     "data": {
      "text/plain": [
       "(10, 6, 4)"
      ]
     },
     "execution_count": 57,
     "metadata": {},
     "output_type": "execute_result"
    }
   ],
   "source": [
    "wa.power(x).shape"
   ]
  },
  {
   "cell_type": "code",
   "execution_count": 15,
   "metadata": {},
   "outputs": [
    {
     "data": {
      "text/plain": [
       "(181, 10, 240)"
      ]
     },
     "execution_count": 15,
     "metadata": {},
     "output_type": "execute_result"
    }
   ],
   "source": [
    "np.concatenate([feat, seg], axis=2).shape"
   ]
  },
  {
   "cell_type": "code",
   "execution_count": 3,
   "metadata": {},
   "outputs": [],
   "source": [
    "# config\n",
    "sel_dist=[[0,3],[3,6]]\n",
    "sel_ang=[[1,3,2]]\n",
    "sel_coord=[]\n",
    "normalize_range=(0,1)\n",
    "include_index = False\n",
    "seg_window = 10\n",
    "\n",
    "dist = count_dist(m1.dlc_raw, sel_dist)[1:]\n",
    "ang = count_angle(m1.dlc_raw, sel_ang)[1:]\n",
    "disp = count_disp(m1.dlc_raw, step=1, threshold=None)\n",
    "\n",
    "feat = dist\n",
    "feat = np.hstack([feat, ang])\n",
    "feat = np.hstack([feat, disp[:,0:1]])"
   ]
  },
  {
   "cell_type": "code",
   "execution_count": 4,
   "metadata": {},
   "outputs": [
    {
     "data": {
      "text/plain": [
       "(9149, 4)"
      ]
     },
     "execution_count": 4,
     "metadata": {},
     "output_type": "execute_result"
    }
   ],
   "source": [
    "feat.shape"
   ]
  },
  {
   "cell_type": "code",
   "execution_count": 8,
   "metadata": {},
   "outputs": [
    {
     "data": {
      "text/plain": [
       "(1828, 4)"
      ]
     },
     "execution_count": 8,
     "metadata": {},
     "output_type": "execute_result"
    }
   ],
   "source": [
    "# cwt_signal(feat, window=10, step=5).shape\n",
    "seg_statistic(feat,'max',window=10,step=5).shape"
   ]
  },
  {
   "cell_type": "code",
   "execution_count": 3,
   "metadata": {},
   "outputs": [
    {
     "name": "stdout",
     "output_type": "stream",
     "text": [
      "basal: 41  ,pain: 15  sng: 14  pH7.4: 12\n"
     ]
    }
   ],
   "source": [
    "dlc_root = r'..\\final_data\\mix_landmark7'\n",
    "dlc7 = DataSet(dlc_root)\n"
   ]
  },
  {
   "cell_type": "code",
   "execution_count": 4,
   "metadata": {},
   "outputs": [],
   "source": [
    "dlc7.generate_feature()"
   ]
  },
  {
   "cell_type": "code",
   "execution_count": 5,
   "metadata": {},
   "outputs": [
    {
     "name": "stdout",
     "output_type": "stream",
     "text": [
      "motions num:  100\n"
     ]
    },
    {
     "data": {
      "image/png": "[encoded data removed]",
      "text/plain": [
       "<Figure size 432x288 with 1 Axes>"
      ]
     },
     "metadata": {
      "needs_background": "light"
     },
     "output_type": "display_data"
    }
   ],
   "source": [
    "dlc7.pose_cls(sel=['Cap','Capbasal'], sel_num=20, embed=False, k=100, cls_type='km', clf_type='svm')\n",
    "dlc7.motion_del=True\n",
    "dlc7.generate_train_test()"
   ]
  },
  {
   "cell_type": "code",
   "execution_count": 9,
   "metadata": {},
   "outputs": [
    {
     "data": {
      "text/plain": [
       "array([-1,  0,  1,  2])"
      ]
     },
     "execution_count": 9,
     "metadata": {},
     "output_type": "execute_result"
    }
   ],
   "source": [
    "np.unique(dlc7.y_test)"
   ]
  },
  {
   "cell_type": "markdown",
   "metadata": {},
   "source": [
    "### wave test"
   ]
  },
  {
   "cell_type": "code",
   "execution_count": 10,
   "metadata": {},
   "outputs": [],
   "source": [
    "from scipy import signal\n",
    "import matplotlib.pyplot as plt\n",
    "from scipy.fft import fft, fftfreq"
   ]
  },
  {
   "cell_type": "code",
   "execution_count": 11,
   "metadata": {},
   "outputs": [],
   "source": [
    "t = np.linspace(-1, 1, 10, endpoint=False)"
   ]
  },
  {
   "cell_type": "code",
   "execution_count": 12,
   "metadata": {},
   "outputs": [],
   "source": [
    "sig  = np.cos(2 * np.pi * 7 * t) + signal.gausspulse(t - 0.4, fc=2)"
   ]
  },
  {
   "cell_type": "code",
   "execution_count": 70,
   "metadata": {},
   "outputs": [
    {
     "data": {
      "text/plain": [
       "<matplotlib.image.AxesImage at 0x2a84402e5c8>"
      ]
     },
     "execution_count": 70,
     "metadata": {},
     "output_type": "execute_result"
    },
    {
     "data": {
      "image/png": "[encoded data removed]",
      "text/plain": [
       "<Figure size 432x288 with 1 Axes>"
      ]
     },
     "metadata": {
      "needs_background": "light"
     },
     "output_type": "display_data"
    }
   ],
   "source": [
    "widths = np.arange(1, 5)\n",
    "cwtmatr = signal.cwt(sig, signal.ricker, widths)\n",
    "plt.imshow(cwtmatr, extent=[-1, 1, 5, 1], cmap='PRGn', aspect='auto',\n",
    "           vmax=abs(cwtmatr).max(), vmin=-abs(cwtmatr).max())"
   ]
  },
  {
   "cell_type": "code",
   "execution_count": 71,
   "metadata": {},
   "outputs": [],
   "source": [
    "yf = fft(np.array([sig,sig]))\n",
    "xf = fftfreq(10, 1)"
   ]
  },
  {
   "cell_type": "code",
   "execution_count": 72,
   "metadata": {},
   "outputs": [
    {
     "name": "stdout",
     "output_type": "stream",
     "text": [
      "[0.02680023 0.03709751 0.21742501 1.1719986  6.06084198 2.55082662\n",
      " 6.06084198 1.1719986  0.21742501 0.03709751]\n",
      "[0.02680023 0.03709751 0.21742501 1.1719986  6.06084198 2.55082662\n",
      " 6.06084198 1.1719986  0.21742501 0.03709751]\n"
     ]
    }
   ],
   "source": [
    "for x in abs(yf):\n",
    "    print(x)"
   ]
  },
  {
   "cell_type": "code",
   "execution_count": 43,
   "metadata": {},
   "outputs": [
    {
     "data": {
      "text/plain": [
       "[<matplotlib.lines.Line2D at 0x2a843fae708>]"
      ]
     },
     "execution_count": 43,
     "metadata": {},
     "output_type": "execute_result"
    },
    {
     "data": {
      "image/png": "[encoded data removed]",
      "text/plain": [
       "<Figure size 432x288 with 1 Axes>"
      ]
     },
     "metadata": {
      "needs_background": "light"
     },
     "output_type": "display_data"
    }
   ],
   "source": [
    "plt.plot(xf, abs(yf), linestyle='-', color='blue')"
   ]
  },
  {
   "cell_type": "code",
   "execution_count": 76,
   "metadata": {},
   "outputs": [
    {
     "data": {
      "text/plain": [
       "array([4, 4], dtype=int64)"
      ]
     },
     "execution_count": 76,
     "metadata": {},
     "output_type": "execute_result"
    }
   ],
   "source": [
    "np.argmax(yf,axis=1)"
   ]
  },
  {
   "cell_type": "code",
   "execution_count": 54,
   "metadata": {},
   "outputs": [
    {
     "data": {
      "text/plain": [
       "(2, 2)"
      ]
     },
     "execution_count": 54,
     "metadata": {},
     "output_type": "execute_result"
    }
   ],
   "source": [
    "www.shape"
   ]
  },
  {
   "cell_type": "markdown",
   "metadata": {},
   "source": [
    "### analysis"
   ]
  },
  {
   "cell_type": "code",
   "execution_count": 24,
   "metadata": {},
   "outputs": [],
   "source": [
    "y = np.array([1,2,1,0,2,1,1,-1,-1,0])\n",
    "pred = np.array([1,2,0,0,2,0,0,-1,2,0])"
   ]
  },
  {
   "cell_type": "code",
   "execution_count": 13,
   "metadata": {},
   "outputs": [
    {
     "data": {
      "text/plain": [
       "array([1, 1, 1, 1])"
      ]
     },
     "execution_count": 13,
     "metadata": {},
     "output_type": "execute_result"
    }
   ],
   "source": [
    "y[y==1]"
   ]
  },
  {
   "cell_type": "code",
   "execution_count": 25,
   "metadata": {},
   "outputs": [],
   "source": [
    "tp = np.count_nonzero(((y==1) & (pred==1)) | ((y==2) & (pred==2)))\n",
    "tn = np.count_nonzero(((y==0) & (pred==0)) | ((y==-1) & (pred==-1)))\n",
    "fp = np.count_nonzero(((y==0) & ((pred==1)|(pred==2))) | ((y==-1) & ((pred==1)|(pred==2))) )\n",
    "fn = np.count_nonzero(((y==1) & ((pred==0)|(pred==-1))) | ((y==2) & ((pred==0)|(pred==-1))) )\n"
   ]
  },
  {
   "cell_type": "code",
   "execution_count": 9,
   "metadata": {},
   "outputs": [],
   "source": [
    "import csv"
   ]
  },
  {
   "cell_type": "code",
   "execution_count": 13,
   "metadata": {},
   "outputs": [],
   "source": [
    "file = open('./test.csv',mode='a', newline='')\n",
    "writer = csv.writer(file)\n",
    "writer.writerow(['abc',1,2,3])\n",
    "file.close()"
   ]
  },
  {
   "cell_type": "code",
   "execution_count": 18,
   "metadata": {},
   "outputs": [
    {
     "name": "stdout",
     "output_type": "stream",
     "text": [
      "final_data\n"
     ]
    }
   ],
   "source": [
    "save_path = r'C:\\Users\\x\\Desktop\\final_data/'\n",
    "if(save_path[-1]=='/'or save_path[-1]=='\\\\'):\n",
    "    save_path = save_path[:-1]\n",
    "save_path = save_path.split('/')[-1]\n",
    "save_path = save_path.split('\\\\')[-1]\n",
    "print(save_path )"
   ]
  },
  {
   "cell_type": "code",
   "execution_count": null,
   "metadata": {},
   "outputs": [],
   "source": []
  }
 ],
 "metadata": {
  "kernelspec": {
   "display_name": "Python 3.8.13 ('micelab')",
   "language": "python",
   "name": "python3"
  },
  "language_info": {
   "codemirror_mode": {
    "name": "ipython",
    "version": 3
   },
   "file_extension": ".py",
   "mimetype": "text/x-python",
   "name": "python",
   "nbconvert_exporter": "python",
   "pygments_lexer": "ipython3",
   "version": "3.8.13"
  },
  "orig_nbformat": 4,
  "vscode": {
   "interpreter": {
    "hash": "21b9da092866ed16c9c2dd273cbbba872df521d78c1f19a13c4b90d01d11e42e"
   }
  }
 },
 "nbformat": 4,
 "nbformat_minor": 2
}
