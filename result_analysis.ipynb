{
 "cells": [
  {
   "cell_type": "code",
   "execution_count": 1,
   "metadata": {},
   "outputs": [],
   "source": [
    "import pandas as pd\n",
    "import matplotlib.pyplot as plt\n",
    "import numpy as np\n",
    "import matplotlib.cm as cm\n",
    "import os"
   ]
  },
  {
   "cell_type": "code",
   "execution_count": 2,
   "metadata": {},
   "outputs": [],
   "source": [
    "# clusters : 'N','Y'\n",
    "# frame/seg : 'F','S'\n",
    "# cwt : '-','N','Y'\n",
    "# window : '-','F','H'\n",
    "# model : ['svm', 'RF', 'DNN', 'LSTM']\n",
    "\n",
    "# [acc  ,FA  ,DR  ] ph7.4 train\n",
    "# [acc.1,FA.1,DR.1] ph7.4 test\n",
    "# [acc.2,FA.2,DR.2] ph7.4 true test\n",
    "# [acc.3,FA.3,DR.3] sel 1 train\n",
    "# [acc.4,FA.4,DR.4] sel 1 test\n",
    "# [acc.5,FA.5,DR.5] sel 1 true test\n",
    "\n",
    "# colors 'r','orange','y','g','c','b','m'"
   ]
  },
  {
   "cell_type": "code",
   "execution_count": 3,
   "metadata": {},
   "outputs": [],
   "source": [
    "df = pd.read_csv('../final_data/result1.csv')"
   ]
  },
  {
   "cell_type": "code",
   "execution_count": 4,
   "metadata": {},
   "outputs": [],
   "source": [
    "save_root = '../final_data/analysis_plot/'"
   ]
  },
  {
   "cell_type": "markdown",
   "metadata": {},
   "source": [
    "### Graph 1"
   ]
  },
  {
   "cell_type": "code",
   "execution_count": null,
   "metadata": {},
   "outputs": [],
   "source": [
    "# compare\n",
    "for compare in [0,1,2,3,4]:# 0 cluster, 1 frame/seg, 2 cwt, 3 window, 4 model\n",
    "    # axis select\n",
    "    for ax1, ax2 in [[0,1],[0,2],[1,2]]:\n",
    "        # axes\n",
    "        axes = ['Accuracy', 'False Alerm', 'Detection Rate']\n",
    "        axess = ['ACC','FA','DR']\n",
    "        # subplots\n",
    "        cols = [['acc'  ,'FA'  ,'DR'  ],['acc.1','FA.1','DR.1'],['acc.2','FA.2','DR.2'],\n",
    "                ['acc.3','FA.3','DR.3'],['acc.4','FA.4','DR.4'],['acc.5','FA.5','DR.5']]\n",
    "        subtitles = ['train pH7.4','test pH7.4','true test pH7.4',\n",
    "                    'train Select 1','test Select 1','true test Select 1']\n",
    "        # select exp\n",
    "        compares = {\n",
    "            0:['N','Y'],\n",
    "            1:['F','S'],\n",
    "            2:['-','N','Y'],\n",
    "            3:['-','F','H'],\n",
    "            4:['svm', 'RF', 'DNN', 'LSTM']\n",
    "        }\n",
    "        legends = {\n",
    "            0:['No cluster', 'Add cluster'],\n",
    "            1:['Frame', 'Segment'],\n",
    "            2:['frame','No CWT', 'Add CWT'],\n",
    "            3:['frame','Full window', 'Half window'],\n",
    "            4:['SVM', 'Random Forest', 'DNN', 'LSTM']\n",
    "        }\n",
    "        cmp_titles = {\n",
    "            0:'Clustser',\n",
    "            1:'FrameOrSegment',\n",
    "            2:'CWT',\n",
    "            3:'Window',\n",
    "            4:'Model'\n",
    "        }\n",
    "        colors = cm.rainbow(np.linspace(0, 1, len(compares[compare])))\n",
    "        title = cmp_titles[compare]+'_Compare_'+axess[ax1]+'-'+axess[ax2]\n",
    "        save_path = save_root+title+'/'\n",
    "        if not os.path.isdir(save_path):\n",
    "            os.makedirs(save_path)\n",
    "\n",
    "        for i in range(6):\n",
    "            ax = cols[i]\n",
    "            plt.figure()\n",
    "            for j, cmp in enumerate(compares[compare]):\n",
    "                x = df[df.iloc[:,compare]==cmp][ax[ax1]].tolist()\n",
    "                y = df[df.iloc[:,compare]==cmp][ax[ax2]].tolist()\n",
    "                plt.scatter(x,y, color=colors[j], label=legends[compare][j])\n",
    "            plt.title(subtitles[i])\n",
    "            plt.xlim(0,1)\n",
    "            plt.xlabel(axes[ax1])\n",
    "            plt.ylim(0,1)\n",
    "            plt.ylabel(axes[ax2])\n",
    "            plt.legend()\n",
    "            # plt.savefig(save_path+title+str(i+1)+'.png')"
   ]
  },
  {
   "cell_type": "markdown",
   "metadata": {},
   "source": [
    "### Graph2"
   ]
  },
  {
   "cell_type": "code",
   "execution_count": null,
   "metadata": {},
   "outputs": [],
   "source": [
    "# compare\n",
    "compare = 0:# 0 cluster, 1 frame/seg, 2 cwt, 3 window, 4 model\n",
    "# axis select\n",
    "for axi ,[ax1, ax2] in enumerate([[0,1],[0,2],[1,2]]):\n",
    "    # axes\n",
    "    axes = ['Accuracy', 'False Alerm', 'Detection Rate']\n",
    "    axess = ['ACC','FA','DR']\n",
    "    # subplots\n",
    "    cols = [['acc'  ,'FA'  ,'DR'  ],['acc.1','FA.1','DR.1'],['acc.2','FA.2','DR.2'],\n",
    "            ['acc.3','FA.3','DR.3'],['acc.4','FA.4','DR.4'],['acc.5','FA.5','DR.5']]\n",
    "    subtitles = ['train pH7.4','test pH7.4','true test pH7.4',\n",
    "                'train Select 1','test Select 1','true test Select 1']\n",
    "    # select exp\n",
    "    compares = {\n",
    "        0:['N','Y'],\n",
    "        1:['F','S'],\n",
    "        2:['N','Y'],\n",
    "        3:['F','H'],\n",
    "        4:['svm', 'RF', 'DNN', 'LSTM']\n",
    "    }\n",
    "    legends = {\n",
    "        0:['No cluster', 'Add cluster'],\n",
    "        1:['Frame', 'Segment'],\n",
    "        2:['frame','No CWT', 'Add CWT'],\n",
    "        3:['frame','Full window', 'Half window'],\n",
    "        4:['SVM', 'Random Forest', 'DNN', 'LSTM']\n",
    "    }\n",
    "    cmp_titles = {\n",
    "        0:'Clustser',\n",
    "        1:'FrameOrSegment',\n",
    "        2:'CWT',\n",
    "        3:'Window',\n",
    "        4:'Model'\n",
    "    }\n",
    "    colors = cm.rainbow(np.linspace(0, 1, len(compares[compare])))\n",
    "    title = cmp_titles[compare]+'_Compare_'+axess[ax1]+'-'+axess[ax2]\n",
    "    save_path = save_root+title+'/'\n",
    "    if not os.path.isdir(save_path):\n",
    "        os.makedirs(save_path)\n",
    "\n",
    "    for i in range(6):\n",
    "        ax = cols[i]\n",
    "        plt.figure()\n",
    "        for j, cmp in enumerate(compares[compare]):\n",
    "            x = df[df.iloc[:,compare]==cmp][ax[ax1]].tolist()\n",
    "            y = df[df.iloc[:,compare]==cmp][ax[ax2]].tolist()\n",
    "            plt.scatter(x,y, color=colors[j], label=legends[compare][j])\n",
    "        plt.title(subtitles[i])\n",
    "        plt.xlim(0,1)\n",
    "        plt.xlabel(axes[ax1])\n",
    "        plt.ylim(0,1)\n",
    "        plt.ylabel(axes[ax2])\n",
    "        plt.legend()\n",
    "        #plt.savefig(save_path+title+str(i+1)+'.png')"
   ]
  },
  {
   "cell_type": "code",
   "execution_count": 19,
   "metadata": {},
   "outputs": [
    {
     "data": {
      "image/png": "[encoded data removed]",
      "text/plain": [
       "<Figure size 640x480 with 1 Axes>"
      ]
     },
     "metadata": {},
     "output_type": "display_data"
    }
   ],
   "source": [
    "import numpy as np\n",
    "from matplotlib import pyplot as plt\n",
    "from matplotlib import patches\n",
    "\n",
    "data = np.genfromtxt('file1.dat', delimiter=',', skip_header=1, names=['MAG', 'X0', 'Y0','X1','Y1'])\n",
    "plt.scatter(data['X0'], data['Y0'], color='r', zorder=10)\n",
    "plt.scatter(data['X1'], data['Y1'], color='r', zorder=10)\n",
    "\n",
    "for d in data:\n",
    "    if(d['MAG'] > 0):\n",
    "        plt.arrow(d['X0'],d['Y0'],d['X1']-d['X0'], d['Y1']-d['Y0'], \n",
    "         shape='full', color='b', lw=1, length_includes_head=True, \n",
    "         zorder=0, head_length=3., head_width=1.5)\n",
    "\n",
    "plt.show()"
   ]
  },
  {
   "cell_type": "code",
   "execution_count": null,
   "metadata": {},
   "outputs": [],
   "source": []
  }
 ],
 "metadata": {
  "kernelspec": {
   "display_name": "Python 3.8.15 ('micelab')",
   "language": "python",
   "name": "python3"
  },
  "language_info": {
   "codemirror_mode": {
    "name": "ipython",
    "version": 3
   },
   "file_extension": ".py",
   "mimetype": "text/x-python",
   "name": "python",
   "nbconvert_exporter": "python",
   "pygments_lexer": "ipython3",
   "version": "3.8.15"
  },
  "orig_nbformat": 4,
  "vscode": {
   "interpreter": {
    "hash": "261f4e7c2ce32b03122008566a2d6b1b4000d084cc20bf73259253bda2cba41d"
   }
  }
 },
 "nbformat": 4,
 "nbformat_minor": 2
}
